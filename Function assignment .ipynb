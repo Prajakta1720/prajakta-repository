{
 "cells": [
  {
   "cell_type": "code",
   "execution_count": 1,
   "id": "aff2cbbd",
   "metadata": {},
   "outputs": [],
   "source": [
    "import sympy as sp\n",
    "import numpy as np"
   ]
  },
  {
   "cell_type": "markdown",
   "id": "c914109f",
   "metadata": {},
   "source": [
    "# Q.1\n",
    "Write a python Program which accepts the radius of the circle from the user and compute the area."
   ]
  },
  {
   "cell_type": "code",
   "execution_count": 3,
   "id": "8cdc7569",
   "metadata": {},
   "outputs": [
    {
     "name": "stdout",
     "output_type": "stream",
     "text": [
      " Please Enter the radius of a circle: 4\n",
      " The area of circle is:\n",
      " 50.24\n"
     ]
    }
   ],
   "source": [
    "PI = 3.14\n",
    "radius = float(input(' Please Enter the radius of a circle: '))\n",
    "area = PI * radius * radius\n",
    "\n",
    "print(\" The area of circle is:\\n\",area)"
   ]
  },
  {
   "cell_type": "markdown",
   "id": "d1e54b0f",
   "metadata": {},
   "source": [
    "# Q.2 \n",
    "Write a Python program which accepts the user's first and last name and print them in reverse order with a space between them."
   ]
  },
  {
   "cell_type": "code",
   "execution_count": 2,
   "id": "299f5a0b",
   "metadata": {},
   "outputs": [
    {
     "name": "stdout",
     "output_type": "stream",
     "text": [
      "Input your First Name : sonu\n",
      "Input your Last Name : monu\n",
      "Hello  monu sonu\n"
     ]
    }
   ],
   "source": [
    "fname = input(\"Input your First Name : \")\n",
    "lname = input(\"Input your Last Name : \")\n",
    "print (\"Hello  \" + lname + \" \" + fname)"
   ]
  },
  {
   "cell_type": "markdown",
   "id": "869d09b6",
   "metadata": {},
   "source": [
    "# Q.3\n",
    "Write a Python Program that accepts an integer and computes the value of (n+nn+nnn)"
   ]
  },
  {
   "cell_type": "code",
   "execution_count": 4,
   "id": "ccf2e472",
   "metadata": {},
   "outputs": [
    {
     "name": "stdout",
     "output_type": "stream",
     "text": [
      "Enter a number:3\n",
      "39\n"
     ]
    }
   ],
   "source": [
    "n=int(input(\"Enter a number:\"))\n",
    "num=(n+(n*n)+(n*n*n))\n",
    "print(num)"
   ]
  },
  {
   "cell_type": "markdown",
   "id": "91bdcb59",
   "metadata": {},
   "source": [
    "# Q.4\n",
    "Return the absolute value of argument"
   ]
  },
  {
   "cell_type": "code",
   "execution_count": 5,
   "id": "70c107a5",
   "metadata": {},
   "outputs": [
    {
     "name": "stdout",
     "output_type": "stream",
     "text": [
      "Enter the number:2.9887654\n",
      "The absolute value is 2.9887654\n"
     ]
    }
   ],
   "source": [
    "n=float(input(\"Enter the number:\"))\n",
    "print(\"The absolute value is\",abs(n))"
   ]
  },
  {
   "cell_type": "markdown",
   "id": "0a821e28",
   "metadata": {},
   "source": [
    "# Q.5\n",
    "Program to get volume of sphere."
   ]
  },
  {
   "cell_type": "code",
   "execution_count": 6,
   "id": "eab87767",
   "metadata": {},
   "outputs": [
    {
     "name": "stdout",
     "output_type": "stream",
     "text": [
      "Enter the radius of sphere:5\n",
      "The volume of sphere is: 523.3333333333334\n"
     ]
    }
   ],
   "source": [
    "pi=3.14\n",
    "r=int(input(\"Enter the radius of sphere:\"))\n",
    "volume=(4/3)*pi*r**3\n",
    "print(\"The volume of sphere is:\",volume)"
   ]
  },
  {
   "cell_type": "markdown",
   "id": "b2c4528a",
   "metadata": {},
   "source": [
    "# Q.6\n",
    "Write a program to count the number 4 in given list"
   ]
  },
  {
   "cell_type": "code",
   "execution_count": 7,
   "id": "4ab566a6",
   "metadata": {},
   "outputs": [
    {
     "name": "stdout",
     "output_type": "stream",
     "text": [
      "The count of element: 4 is  3\n"
     ]
    }
   ],
   "source": [
    "list1 = [2,3,4,4,10,3,5,6,4]\n",
    "elm_count = list1.count(4)\n",
    "print('The count of element: 4 is ', elm_count)"
   ]
  },
  {
   "cell_type": "markdown",
   "id": "a56a6463",
   "metadata": {},
   "source": [
    "# Q.7\n",
    "Print all even numbers from given number list in same order"
   ]
  },
  {
   "cell_type": "code",
   "execution_count": 8,
   "id": "356629f3",
   "metadata": {},
   "outputs": [
    {
     "name": "stdout",
     "output_type": "stream",
     "text": [
      "2\n",
      "14\n",
      "10\n",
      "4\n",
      "6\n"
     ]
    }
   ],
   "source": [
    "numbers=[2,13,14,10,4,6]\n",
    "for x in numbers:\n",
    "    if x % 2 == 0:\n",
    "        print(x)"
   ]
  },
  {
   "cell_type": "markdown",
   "id": "7f582dd7",
   "metadata": {},
   "source": [
    "# Q.8\n",
    "Write Program to sum of three given integers.However, if two values are equal sum will be zero."
   ]
  },
  {
   "cell_type": "code",
   "execution_count": 16,
   "id": "26c4f5cf",
   "metadata": {},
   "outputs": [
    {
     "name": "stdout",
     "output_type": "stream",
     "text": [
      "0\n",
      "13\n",
      "0\n"
     ]
    }
   ],
   "source": [
    "def sum(x, y, z):\n",
    "    if x == y or y == z or x==z:\n",
    "        sum = 0\n",
    "    else:\n",
    "        sum = x + y + z\n",
    "    return sum\n",
    "print(sum(2,1,2))\n",
    "print(sum(2,5,6))\n",
    "print(sum(8,7,8))"
   ]
  },
  {
   "cell_type": "code",
   "execution_count": null,
   "id": "0771682f",
   "metadata": {},
   "outputs": [],
   "source": []
  }
 ],
 "metadata": {
  "kernelspec": {
   "display_name": "Python 3",
   "language": "python",
   "name": "python3"
  },
  "language_info": {
   "codemirror_mode": {
    "name": "ipython",
    "version": 3
   },
   "file_extension": ".py",
   "mimetype": "text/x-python",
   "name": "python",
   "nbconvert_exporter": "python",
   "pygments_lexer": "ipython3",
   "version": "3.9.5"
  }
 },
 "nbformat": 4,
 "nbformat_minor": 5
}
